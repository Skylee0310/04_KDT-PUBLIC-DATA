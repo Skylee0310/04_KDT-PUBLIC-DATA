{
 "cells": [
  {
   "cell_type": "code",
   "execution_count": 1,
   "id": "aeea2bb1-128e-4525-9411-8dfe01c553be",
   "metadata": {},
   "outputs": [
    {
     "data": {
      "text/html": [
       "<div>\n",
       "<style scoped>\n",
       "    .dataframe tbody tr th:only-of-type {\n",
       "        vertical-align: middle;\n",
       "    }\n",
       "\n",
       "    .dataframe tbody tr th {\n",
       "        vertical-align: top;\n",
       "    }\n",
       "\n",
       "    .dataframe thead th {\n",
       "        text-align: right;\n",
       "    }\n",
       "</style>\n",
       "<table border=\"1\" class=\"dataframe\">\n",
       "  <thead>\n",
       "    <tr style=\"text-align: right;\">\n",
       "      <th></th>\n",
       "      <th>Rank</th>\n",
       "      <th>Studio</th>\n",
       "      <th>Gross</th>\n",
       "      <th>Year</th>\n",
       "    </tr>\n",
       "    <tr>\n",
       "      <th>Title</th>\n",
       "      <th></th>\n",
       "      <th></th>\n",
       "      <th></th>\n",
       "      <th></th>\n",
       "    </tr>\n",
       "  </thead>\n",
       "  <tbody>\n",
       "    <tr>\n",
       "      <th>Avengers: Endgame</th>\n",
       "      <td>1</td>\n",
       "      <td>Buena Vista</td>\n",
       "      <td>$2,796.30</td>\n",
       "      <td>2019</td>\n",
       "    </tr>\n",
       "    <tr>\n",
       "      <th>Avatar</th>\n",
       "      <td>2</td>\n",
       "      <td>Fox</td>\n",
       "      <td>$2,789.70</td>\n",
       "      <td>2009</td>\n",
       "    </tr>\n",
       "    <tr>\n",
       "      <th>Titanic</th>\n",
       "      <td>3</td>\n",
       "      <td>Paramount</td>\n",
       "      <td>$2,187.50</td>\n",
       "      <td>1997</td>\n",
       "    </tr>\n",
       "    <tr>\n",
       "      <th>Star Wars: The Force Awakens</th>\n",
       "      <td>4</td>\n",
       "      <td>Buena Vista</td>\n",
       "      <td>$2,068.20</td>\n",
       "      <td>2015</td>\n",
       "    </tr>\n",
       "    <tr>\n",
       "      <th>Avengers: Infinity War</th>\n",
       "      <td>5</td>\n",
       "      <td>Buena Vista</td>\n",
       "      <td>$2,048.40</td>\n",
       "      <td>2018</td>\n",
       "    </tr>\n",
       "  </tbody>\n",
       "</table>\n",
       "</div>"
      ],
      "text/plain": [
       "                              Rank       Studio       Gross  Year\n",
       "Title                                                            \n",
       "Avengers: Endgame                1  Buena Vista  $2,796.30   2019\n",
       "Avatar                           2          Fox  $2,789.70   2009\n",
       "Titanic                          3    Paramount  $2,187.50   1997\n",
       "Star Wars: The Force Awakens     4  Buena Vista  $2,068.20   2015\n",
       "Avengers: Infinity War           5  Buena Vista  $2,048.40   2018"
      ]
     },
     "execution_count": 1,
     "metadata": {},
     "output_type": "execute_result"
    }
   ],
   "source": [
    "import pandas as pd\n",
    "file = './DATA/movies.csv'\n",
    "movies = pd.read_csv(file, index_col = 'Title')\n",
    "movies.head()"
   ]
  },
  {
   "cell_type": "code",
   "execution_count": 2,
   "id": "f4c71047-e9c1-4e7f-85f1-3b63c8f1abfe",
   "metadata": {},
   "outputs": [],
   "source": [
    "#데이터 그룹화 51p\n",
    "# 과제 - 어떤 제작사가 제작한 영화의 총 수익이 가장 높은지 알아보기\n",
    "# - Gross 열의 값을 제작사별로 집계.\n"
   ]
  },
  {
   "cell_type": "code",
   "execution_count": 10,
   "id": "c855fd3d-a8dc-4950-8ae0-265eccc67026",
   "metadata": {},
   "outputs": [],
   "source": [
    "movies['Gross'] = movies['Gross'].str.replace('$', '', regex = False).str.replace(',', '', regex = False).astype(float)"
   ]
  },
  {
   "cell_type": "code",
   "execution_count": 11,
   "id": "f22a6e2b-3964-4b9f-ae38-22bb1602c8b1",
   "metadata": {},
   "outputs": [
    {
     "data": {
      "text/plain": [
       "439.0308184143222"
      ]
     },
     "execution_count": 11,
     "metadata": {},
     "output_type": "execute_result"
    }
   ],
   "source": [
    "movies['Gross'].mean()"
   ]
  },
  {
   "cell_type": "code",
   "execution_count": 14,
   "id": "dcf88868-9097-4db9-9e47-357137ac47be",
   "metadata": {},
   "outputs": [
    {
     "data": {
      "text/html": [
       "<div>\n",
       "<style scoped>\n",
       "    .dataframe tbody tr th:only-of-type {\n",
       "        vertical-align: middle;\n",
       "    }\n",
       "\n",
       "    .dataframe tbody tr th {\n",
       "        vertical-align: top;\n",
       "    }\n",
       "\n",
       "    .dataframe thead th {\n",
       "        text-align: right;\n",
       "    }\n",
       "</style>\n",
       "<table border=\"1\" class=\"dataframe\">\n",
       "  <thead>\n",
       "    <tr style=\"text-align: right;\">\n",
       "      <th></th>\n",
       "      <th>Rank</th>\n",
       "      <th>Gross</th>\n",
       "      <th>Year</th>\n",
       "    </tr>\n",
       "    <tr>\n",
       "      <th>Studio</th>\n",
       "      <th></th>\n",
       "      <th></th>\n",
       "      <th></th>\n",
       "    </tr>\n",
       "  </thead>\n",
       "  <tbody>\n",
       "    <tr>\n",
       "      <th>Artisan</th>\n",
       "      <td>1</td>\n",
       "      <td>1</td>\n",
       "      <td>1</td>\n",
       "    </tr>\n",
       "    <tr>\n",
       "      <th>Buena Vista</th>\n",
       "      <td>125</td>\n",
       "      <td>125</td>\n",
       "      <td>125</td>\n",
       "    </tr>\n",
       "    <tr>\n",
       "      <th>CL</th>\n",
       "      <td>1</td>\n",
       "      <td>1</td>\n",
       "      <td>1</td>\n",
       "    </tr>\n",
       "    <tr>\n",
       "      <th>China Film Corporation</th>\n",
       "      <td>1</td>\n",
       "      <td>1</td>\n",
       "      <td>1</td>\n",
       "    </tr>\n",
       "    <tr>\n",
       "      <th>Columbia</th>\n",
       "      <td>5</td>\n",
       "      <td>5</td>\n",
       "      <td>5</td>\n",
       "    </tr>\n",
       "  </tbody>\n",
       "</table>\n",
       "</div>"
      ],
      "text/plain": [
       "                        Rank  Gross  Year\n",
       "Studio                                   \n",
       "Artisan                    1      1     1\n",
       "Buena Vista              125    125   125\n",
       "CL                         1      1     1\n",
       "China Film Corporation     1      1     1\n",
       "Columbia                   5      5     5"
      ]
     },
     "execution_count": 14,
     "metadata": {},
     "output_type": "execute_result"
    }
   ],
   "source": [
    "#제작사 식별 -> 제작사에 속한 영화, 행을 버킷으로 지정.\n",
    "studios = movies.groupby('Studio')\n",
    "studios.count().head()"
   ]
  },
  {
   "cell_type": "code",
   "execution_count": 15,
   "id": "3f7c29d6-0bf1-481a-a58c-0733d3f851ee",
   "metadata": {},
   "outputs": [
    {
     "data": {
      "text/plain": [
       "Title\n",
       "Avengers: Endgame               2796\n",
       "Avatar                          2790\n",
       "Titanic                         2188\n",
       "Star Wars: The Force Awakens    2068\n",
       "Avengers: Infinity War          2048\n",
       "                                ... \n",
       "Yogi Bear                        202\n",
       "Garfield: The Movie              201\n",
       "Cats & Dogs                      201\n",
       "The Hunt for Red October         200\n",
       "Valkyrie                         200\n",
       "Name: Gross, Length: 782, dtype: int64"
      ]
     },
     "execution_count": 15,
     "metadata": {},
     "output_type": "execute_result"
    }
   ],
   "source": [
    "movies['Gross'].apply(func = round)"
   ]
  },
  {
   "cell_type": "code",
   "execution_count": 16,
   "id": "3618897b-6322-4f64-98b4-1160d2267ea5",
   "metadata": {},
   "outputs": [],
   "source": [
    "superheroes = ['Batman', 'Superman', 'Spider-Man', 'Iron Man', 'Captain America', 'Wonder Woman']\n",
    "strength_levels = (100, 120, 90, 95, 110, 120)"
   ]
  },
  {
   "cell_type": "code",
   "execution_count": 17,
   "id": "27b9e189-7e15-43e2-bf96-b16571877b3c",
   "metadata": {},
   "outputs": [],
   "source": [
    "super = pd.Series(superheroes)"
   ]
  },
  {
   "cell_type": "code",
   "execution_count": 18,
   "id": "a84474fe-28a0-457b-a936-d6960de98360",
   "metadata": {},
   "outputs": [
    {
     "data": {
      "text/plain": [
       "0             Batman\n",
       "1           Superman\n",
       "2         Spider-Man\n",
       "3           Iron Man\n",
       "4    Captain America\n",
       "5       Wonder Woman\n",
       "dtype: object"
      ]
     },
     "execution_count": 18,
     "metadata": {},
     "output_type": "execute_result"
    }
   ],
   "source": [
    "super"
   ]
  },
  {
   "cell_type": "code",
   "execution_count": 19,
   "id": "5386bacb-b4f5-4f87-b997-84c27f360a82",
   "metadata": {},
   "outputs": [
    {
     "data": {
      "text/plain": [
       "0    100\n",
       "1    120\n",
       "2     90\n",
       "3     95\n",
       "4    110\n",
       "5    120\n",
       "dtype: int64"
      ]
     },
     "execution_count": 19,
     "metadata": {},
     "output_type": "execute_result"
    }
   ],
   "source": [
    "strength = pd.Series(strength_levels)\n",
    "strength"
   ]
  },
  {
   "cell_type": "code",
   "execution_count": 27,
   "id": "1d45724b-427d-4f40-9afb-ef9ecef7cd11",
   "metadata": {},
   "outputs": [],
   "source": [
    "DF = pd.DataFrame(index = super, data = strength_levels)"
   ]
  },
  {
   "cell_type": "code",
   "execution_count": 28,
   "id": "63751b65-a5c7-475c-bd0f-e1b68bc6791f",
   "metadata": {},
   "outputs": [
    {
     "data": {
      "text/html": [
       "<div>\n",
       "<style scoped>\n",
       "    .dataframe tbody tr th:only-of-type {\n",
       "        vertical-align: middle;\n",
       "    }\n",
       "\n",
       "    .dataframe tbody tr th {\n",
       "        vertical-align: top;\n",
       "    }\n",
       "\n",
       "    .dataframe thead th {\n",
       "        text-align: right;\n",
       "    }\n",
       "</style>\n",
       "<table border=\"1\" class=\"dataframe\">\n",
       "  <thead>\n",
       "    <tr style=\"text-align: right;\">\n",
       "      <th></th>\n",
       "      <th>0</th>\n",
       "    </tr>\n",
       "  </thead>\n",
       "  <tbody>\n",
       "    <tr>\n",
       "      <th>Batman</th>\n",
       "      <td>100</td>\n",
       "    </tr>\n",
       "    <tr>\n",
       "      <th>Superman</th>\n",
       "      <td>120</td>\n",
       "    </tr>\n",
       "  </tbody>\n",
       "</table>\n",
       "</div>"
      ],
      "text/plain": [
       "            0\n",
       "Batman    100\n",
       "Superman  120"
      ]
     },
     "execution_count": 28,
     "metadata": {},
     "output_type": "execute_result"
    }
   ],
   "source": [
    "DF.head(2)"
   ]
  },
  {
   "cell_type": "code",
   "execution_count": 31,
   "id": "6a204843-4566-453e-87b4-9108ad882442",
   "metadata": {},
   "outputs": [
    {
     "data": {
      "text/plain": [
       "0    6\n",
       "dtype: int64"
      ]
     },
     "execution_count": 31,
     "metadata": {},
     "output_type": "execute_result"
    }
   ],
   "source": [
    "DF.count()"
   ]
  },
  {
   "cell_type": "code",
   "execution_count": null,
   "id": "796eb226-de5b-49b6-9e2b-e64bccb6c92f",
   "metadata": {},
   "outputs": [],
   "source": []
  }
 ],
 "metadata": {
  "kernelspec": {
   "display_name": "Python 3 (ipykernel)",
   "language": "python",
   "name": "python3"
  },
  "language_info": {
   "codemirror_mode": {
    "name": "ipython",
    "version": 3
   },
   "file_extension": ".py",
   "mimetype": "text/x-python",
   "name": "python",
   "nbconvert_exporter": "python",
   "pygments_lexer": "ipython3",
   "version": "3.8.18"
  }
 },
 "nbformat": 4,
 "nbformat_minor": 5
}
